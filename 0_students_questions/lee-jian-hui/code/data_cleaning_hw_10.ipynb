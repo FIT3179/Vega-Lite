{
 "cells": [
  {
   "cell_type": "code",
   "execution_count": null,
   "metadata": {},
   "outputs": [],
   "source": [
    "import pandas as pd\n",
    "import pycountry_convert as pc\n",
    "\n",
    "df = pd.read_csv(\"death-rates-from-energy-production-per-twh\")\n"
   ]
  },
  {
   "cell_type": "code",
   "execution_count": null,
   "metadata": {},
   "outputs": [],
   "source": [
    "countries = df[\"Federation\"]\n",
    "\n",
    "temp = []\n",
    "eu_old_lst = [\"Soviet Union\", \"Yugoslavia\", \"Czecho?slovakia\", \"Serbia and Montenegro\", \"East Germany\", \n",
    "\"Moldava\", \"West Germany\"]\n",
    "\n",
    "for i in range(len(df)):\n",
    "    try:\n",
    "\n",
    "        country_code = pc.country_name_to_country_alpha2(countries[i], cn_name_format=\"default\")\n",
    "        continent_name = pc.country_alpha2_to_continent_code(country_code)\n",
    "        temp.append(continent_name)\n",
    "        print(i, df[\"Name\"][i])\n",
    "    except KeyError as e:\n",
    "        if countries[i] in [\"England\", \"Scotland\", \"Wales\", \"Northern Ireland\"]:\n",
    "            continent_name = pc.country_alpha2_to_continent_code(\"GB\")\n",
    "            temp.append(continent_name)\n",
    "        elif countries[i] in eu_old_lst:\n",
    "            temp.append(\"EU\")\n",
    "        elif countries[i] == \"FIDE\":\n",
    "            i += 1\n",
    "        else:\n",
    "            raise e\n"
   ]
  },
  {
   "cell_type": "code",
   "execution_count": null,
   "metadata": {},
   "outputs": [],
   "source": [
    "continents = df[\"continent\"]\n",
    "temp = []\n",
    "for i in range(len(df)):\n",
    "    curr_continent = continents[i]\n",
    "    if curr_continent == \"NA\":\n",
    "        temp.append(\"North America\")\n",
    "    elif curr_continent == \"SA\":\n",
    "        temp.append(\"South America\")\n",
    "    elif curr_continent == \"EU\":\n",
    "        temp.append(\"Europe\")\n",
    "    elif curr_continent == \"AS\":\n",
    "        temp.append(\"Asia\")\n",
    "    elif curr_continent == \"AN\":\n",
    "        temp.append(\"Antartica\")\n",
    "    elif curr_continent == \"OC\":\n",
    "        temp.append(\"Oceania\")\n",
    "    elif curr_continent == \"AF\":\n",
    "        temp.append(\"Africa\")\n",
    "    else:\n",
    "        raise ValueError\n"
   ]
  }
 ],
 "metadata": {
  "interpreter": {
   "hash": "25bf1dab56f13e21d80318cd5e789e076f92a14fa9924f370a2a818164c863f4"
  },
  "kernelspec": {
   "display_name": "Python 3.9.0 64-bit",
   "name": "python3"
  },
  "language_info": {
   "codemirror_mode": {
    "name": "ipython",
    "version": 3
   },
   "file_extension": ".py",
   "mimetype": "text/x-python",
   "name": "python",
   "nbconvert_exporter": "python",
   "pygments_lexer": "ipython3",
   "version": "3.9.0"
  },
  "orig_nbformat": 4
 },
 "nbformat": 4,
 "nbformat_minor": 2
}
